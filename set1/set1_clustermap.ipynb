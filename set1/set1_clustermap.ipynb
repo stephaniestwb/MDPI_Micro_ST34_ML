{
 "cells": [
  {
   "cell_type": "markdown",
   "metadata": {},
   "source": [
    "# Set 1 - Figure 2"
   ]
  },
  {
   "cell_type": "markdown",
   "metadata": {},
   "source": [
    "## Importing Libraries\n"
   ]
  },
  {
   "cell_type": "code",
   "execution_count": 1,
   "metadata": {},
   "outputs": [],
   "source": [
    "# Data Management\n",
    "import pandas as pd\n",
    "import scipy as sp\n",
    "\n",
    "# Data Visualization\n",
    "import matplotlib.pyplot as plt\n",
    "import seaborn as sns\n",
    "\n",
    "# Machine Learning\n",
    "from sklearn.model_selection import train_test_split\n",
    "from sklearn.ensemble import RandomForestClassifier"
   ]
  },
  {
   "cell_type": "markdown",
   "metadata": {},
   "source": [
    "## Cleaning Metadata"
   ]
  },
  {
   "cell_type": "markdown",
   "metadata": {},
   "source": [
    "### Curating Metadata"
   ]
  },
  {
   "cell_type": "code",
   "execution_count": 2,
   "metadata": {},
   "outputs": [
    {
     "name": "stderr",
     "output_type": "stream",
     "text": [
      "C:\\Users\\steph\\AppData\\Local\\Temp\\ipykernel_26164\\3708048199.py:446: SettingWithCopyWarning: \n",
      "A value is trying to be set on a copy of a slice from a DataFrame.\n",
      "Try using .loc[row_indexer,col_indexer] = value instead\n",
      "\n",
      "See the caveats in the documentation: https://pandas.pydata.org/pandas-docs/stable/user_guide/indexing.html#returning-a-view-versus-a-copy\n",
      "  st1['ST'] = st1['ST'].apply(replace_st)\n"
     ]
    }
   ],
   "source": [
    "f1 = pd.read_csv('files/PDS000140119.22.tsv', sep = '\\t')\n",
    "f2 = pd.read_csv('files/12838_metadata_biosample.csv')\n",
    "f3 = f2[['sra_id', 'biosample_id']]\n",
    "f3 = f3.rename(columns = {'biosample_id':'BioSample',\n",
    "                          'sra_id':'id'})\n",
    "\n",
    "d1 = pd.merge(f1, f3, how = 'inner', on = 'BioSample')\n",
    "d2 = d1[['id', 'Location', 'Isolation source']]\n",
    "\n",
    "da2 = d2[['id', 'Location']]\n",
    "da2 = da2.set_index('id')\n",
    "da2 = da2['Location'].str.split(':', expand = True).add_prefix('name_')\n",
    "da2 = da2.rename(columns = {'name_0':'Country'})\n",
    "da2 = da2.drop('name_1', axis = 1)\n",
    "\n",
    "d3 = pd.merge(d2, da2, how = 'inner', on = 'id')\n",
    "\n",
    "def replace_country(x):\n",
    "    if x == 'USA':                     # 7260\n",
    "        return 'United States'\n",
    "    elif x == 'United Kingdom':        # 2057\n",
    "        return 'United Kingdom'\n",
    "    else:\n",
    "        return 'Others'\n",
    "    \n",
    "d3['Country'] = d3['Country'].apply(replace_country) \n",
    "d3['source'] = d3['Isolation source'].str.lower() \n",
    "\n",
    "def replace_host(x):\n",
    "    if x == 'swine':\n",
    "        return 'Swine'\n",
    "    elif x == 'sus scrofa':\n",
    "        return 'Swine'\n",
    "    elif x == 'sus domesticus':\n",
    "        return 'Swine'\n",
    "    elif x == 'pork':\n",
    "        return 'Swine'\n",
    "    elif x == 'porcine':\n",
    "        return 'Swine'\n",
    "    elif x == 'pig':\n",
    "        return 'Swine'\n",
    "    elif x == 'hogs':\n",
    "        return 'Swine'\n",
    "    elif x == 'pig at slaughter':\n",
    "        return 'Swine'\n",
    "    elif x == 'animal-swine-market swine':\n",
    "        return 'Swine'\n",
    "    elif x == 'pork chop':\n",
    "        return 'Swine'\n",
    "    elif x == 'intestine (sus scrofa)':\n",
    "        return 'Swine'\n",
    "    elif x == 'animal-swine-sow':\n",
    "        return 'Swine'\n",
    "    elif x == 'feces (sus scrofa)':\n",
    "        return 'Swine'\n",
    "    elif x == 'product-raw-ground, comminuted or otherwise nonintact-pork':\n",
    "        return 'Swine'\n",
    "    elif x == 'product-raw-intact-pork':\n",
    "        return 'Swine'\n",
    "    elif x == 'raw intact pork':\n",
    "        return 'Swine'\n",
    "    elif x == 'pooled tissue (sus scrofa domesticus)':\n",
    "        return 'Swine'\n",
    "    elif x == 'porcine tissue pool':\n",
    "        return 'Swine'\n",
    "    elif x == 'porcine liver':\n",
    "        return 'Swine'\n",
    "    elif x == 'intestine (sus domesticus)':\n",
    "        return 'Swine'\n",
    "    elif x == 'sus scrofa domesticus, culture plate':\n",
    "        return 'Swine'\n",
    "    elif x == 'pooled ileum (sus scrofa domesticus)':\n",
    "        return 'Swine'\n",
    "    elif x == 'intestine (sus scrofa domesticus)':\n",
    "        return 'Swine'\n",
    "    elif x == 'small intestine (sus scrofa domesticus)':\n",
    "        return 'Swine'\n",
    "    elif x == 'ileum (sus scrofa domesticus)':\n",
    "        return 'Swine'\n",
    "    elif x == 'colon (sus scrofa domesticus)':\n",
    "        return 'Swine'\n",
    "    elif x == 'swine, livestock, pig':\n",
    "        return 'Swine'\n",
    "    elif x == 'animal-swine-market swine (cecal)':\n",
    "        return 'Swine'\n",
    "    elif x == 'lung (sus scrofa domesticus)':\n",
    "        return 'Swine'\n",
    "    elif x == 'colon(sus scrofa domesticus)':\n",
    "        return 'Swine'\n",
    "    elif x == 'pig meat':\n",
    "        return 'Swine'\n",
    "    elif x == 'swine bacterial strain':\n",
    "        return 'Swine'\n",
    "    elif x == 'ground pork':\n",
    "        return 'Swine'\n",
    "    elif x == 'feces (sus scrofa domesticus)':\n",
    "        return 'Swine'\n",
    "    elif x == 'animal-swine-sow (cecal)':\n",
    "        return 'Swine'\n",
    "    elif x == 'spleen (sus scrofa domesticus)':\n",
    "        return 'Swine'\n",
    "    elif x == 'liver (sus scrofa domesticus)':\n",
    "        return 'Swine'\n",
    "    elif x == 'pork chops':\n",
    "        return 'Swine'\n",
    "    elif x == 'colon (sus scrofa)':\n",
    "        return 'Swine'\n",
    "    elif x == 'roasted pig':\n",
    "        return 'Swine'\n",
    "    elif x == 'animal-swine-roaster swine':\n",
    "        return 'Swine'\n",
    "    elif x == 'tissue (sus scrofa)':\n",
    "        return 'Swine'\n",
    "    elif x == 'feces swine':\n",
    "        return 'Swine'\n",
    "    elif x == 'pig intestine (sus scrofa domesticus)':\n",
    "        return 'Swine'\n",
    "    elif x == 'pig spleen (sus scrofa domesticus)':\n",
    "        return 'Swine'\n",
    "    elif x == 'pig colon (sus scrofa domesticus)':\n",
    "        return 'Swine'\n",
    "    elif x == 'pulled pork':\n",
    "        return 'Swine'\n",
    "    elif x == 'slaughterhouse pig':\n",
    "        return 'Swine'\n",
    "    elif x == 'tissue pool porcine':\n",
    "        return 'Swine'\n",
    "    elif x == 'porcine lung':\n",
    "        return 'Swine'\n",
    "    elif x == 'porcine intestine (sus scrofa domesticus)':\n",
    "        return 'Swine'\n",
    "    elif x == 'porcine lung (sus scrofa domesticus)':\n",
    "        return 'Swine'\n",
    "    elif x == 'swine feces':\n",
    "        return 'Swine'\n",
    "    elif x == 'boneless pork':\n",
    "        return 'Swine'\n",
    "    elif x == 'porcine pooled tissue':\n",
    "        return 'Swine'\n",
    "    elif x == 'lymph (sus scrofa)':\n",
    "        return 'Swine'\n",
    "    elif x == 'boiled pork with mustard greens':\n",
    "        return 'Swine'\n",
    "    elif x == 'raw liver from pork':\n",
    "        return 'Swine'\n",
    "    elif x == 'feces porcine':\n",
    "        return 'Swine'\n",
    "    elif x == 'porcine colon':\n",
    "        return 'Swine'\n",
    "    elif x == 'liver porcine':\n",
    "        return 'Swine'\n",
    "    elif x == 'porcine intestine':\n",
    "        return 'Swine'\n",
    "    elif x == 'porcine colon (sus scrofa domesticus)':\n",
    "        return 'Swine'\n",
    "    elif x == 'raw ground comminuted nonintact pork':\n",
    "        return 'Swine'\n",
    "    elif x == 'swine carcass':\n",
    "        return 'Swine'\n",
    "    elif x == 'porcine mesenteric lymph node (sus scrofa domesticus)':\n",
    "        return 'Swine'\n",
    "    elif x == 'porcine liver (sus scrofa domesticus)':\n",
    "        return 'Swine'\n",
    "    elif x == 'pork meat':\n",
    "        return 'Swine'\n",
    "    elif x == 'porcine fecal swab (sus scrofa domesticus)':\n",
    "        return 'Swine'\n",
    "    elif x == 'porcine peritoneal swab (sus scrofa domesticus)':\n",
    "        return 'Swine'\n",
    "    elif x == 'porcine intesinte pooled (sus scrofa domesticus)':\n",
    "        return 'Swine'\n",
    "    elif x == 'porcine intestinal swab (sus scrofa domesticus)':\n",
    "        return 'Swine'\n",
    "    elif x == 'porcine feces':\n",
    "        return 'Swine'\n",
    "    elif x == 'raw pork':\n",
    "        return 'Swine'\n",
    "    elif x == 'pork sausage':\n",
    "        return 'Swine'\n",
    "    elif x == 'porcine fecal swab':\n",
    "        return 'Swine'\n",
    "    elif x == 'swine colon':\n",
    "        return 'Swine'\n",
    "    elif x == 'porcine pool intestines':\n",
    "        return 'Swine'\n",
    "    elif x == 'intestine (porcine)':\n",
    "        return 'Swine'\n",
    "    elif x == 'porcine feces (sus scrofa domesticus)':\n",
    "        return 'Swine'\n",
    "    elif x == 'porcine lymph node (sus scrofa domesticus)':\n",
    "        return 'Swine'\n",
    "    elif x == 'pork liver':\n",
    "        return 'Swine'\n",
    "    elif x == 'pork kidney':\n",
    "        return 'Swine'\n",
    "    elif x == 'pork intestine':\n",
    "        return 'Swine'\n",
    "    elif x == 'pork fat':\n",
    "        return 'Swine'\n",
    "    elif x == 'feces (sus domesticus)':\n",
    "        return 'Swine'\n",
    "    elif x == 'porcine pleural (sus scrofa domesticus)':\n",
    "        return 'Swine'\n",
    "    elif x == 'feces (sus scrofa domesticus )':\n",
    "        return 'Swine'\n",
    "    elif x == 'pork & cabbage dumplings':\n",
    "        return 'Swine'\n",
    "    elif x == 'porcine oral fluid (sus scrofa domesticus)':\n",
    "        return 'Swine'\n",
    "    elif x == 'rectal swab (sus scrofa domesticus)':\n",
    "        return 'Swine'\n",
    "    elif x == 'caecum (sus scrofa domesticus)':\n",
    "        return 'Swine'\n",
    "    elif x == 'tissue pool (sus scrofa domesticus)':\n",
    "        return 'Swine'\n",
    "    elif x == 'jejunum porcine':\n",
    "        return 'Swine'\n",
    "    elif x == 'mesenteric nodes (sus scrofa domesticus)':\n",
    "        return 'Swine'\n",
    "    elif x == 'caecum content (sus scrofa domesticus)':\n",
    "        return 'Swine'\n",
    "    elif x == 'pig feces':\n",
    "        return 'Swine'\n",
    "    elif x == 'farmed pig':\n",
    "        return 'Swine'\n",
    "    elif x == 'swine, food, pork':\n",
    "        return 'Swine'\n",
    "    elif x == 'rectum (sus scrofa domesticus)':\n",
    "        return 'Swine'\n",
    "    elif x == 'spleen porcine':\n",
    "        return 'Swine'\n",
    "    elif x == 'stomach porcine':\n",
    "        return 'Swine'\n",
    "    elif x == 'pig mechanically separated meat':\n",
    "        return 'Swine'\n",
    "    elif x == 'intestine(sus scrofa domesticus)':\n",
    "        return 'Swine'\n",
    "    elif x == 'rectal swab(sus scrofa domesticus)':\n",
    "        return 'Swine'\n",
    "    elif x == 'lung(sus scrofa domesticus)':\n",
    "        return 'Swine'\n",
    "    elif x == 'liver(sus scrofa domesticus)':\n",
    "        return 'Swine'\n",
    "    elif x == 'pork carcasses':\n",
    "        return 'Swine'\n",
    "    \n",
    "    elif x == 'human':\n",
    "        return 'Human'\n",
    "    elif x == 'human bacterial strain':\n",
    "        return 'Human'\n",
    "    elif x == 'human, blood culture':\n",
    "        return 'Human'\n",
    "    elif x == 'human, faeces':\n",
    "        return 'Human'\n",
    "    elif x == 'human, other':\n",
    "        return 'Human'\n",
    "    elif x == 'human, stool':\n",
    "        return 'Human'\n",
    "    elif x == 'human, urine':\n",
    "        return 'Human'\n",
    "    elif x == 'stool':\n",
    "        return 'Human'\n",
    "    elif x == 'clinical sample':\n",
    "        return 'Human'\n",
    "    elif x == 'blood':\n",
    "        return 'Human'\n",
    "    \n",
    "    elif x == 'turkey':\n",
    "        return 'Poultry'\n",
    "    elif x == 'chicken':\n",
    "        return 'Poultry'\n",
    "    elif x == 'comminuted turkey':\n",
    "        return 'Poultry'\n",
    "    elif x == 'hen bacterial strain':\n",
    "        return 'Poultry'\n",
    "    elif x == 'chicken bacterial strain':\n",
    "        return 'Poultry'\n",
    "    elif x == 'feces (gallus gallus domesticus)':\n",
    "        return 'Poultry'\n",
    "    elif x == 'animal-turkey-young turkey':\n",
    "        return 'Poultry'\n",
    "    elif x == 'poultry':\n",
    "        return 'Poultry'\n",
    "    elif x == 'raw intact chicken':\n",
    "        return 'Poultry'\n",
    "    elif x == 'ground turkey':\n",
    "        return 'Poultry'\n",
    "    elif x == 'nrte (not-ready-to-eat) comminuted poultry exploratory sampling - turkeys':\n",
    "        return 'Poultry'\n",
    "    elif x == 'animal-turkey-young turkey (cecal)':\n",
    "        return 'Poultry'\n",
    "    elif x == 'ground chicken':\n",
    "        return 'Poultry'\n",
    "    elif x == 'animal-turkey-turkey carcass sponge':\n",
    "        return 'Poultry'\n",
    "    elif x == 'chicken - young chicken carcass rinse (pre-evisceration)':\n",
    "        return 'Poultry'\n",
    "    elif x == 'turkey fluff':\n",
    "        return 'Poultry'\n",
    "    elif x == 'turkey carcass sponge':\n",
    "        return 'Poultry'\n",
    "    elif x == 'ground component turkey':\n",
    "        return 'Poultry'\n",
    "    elif x == 'ground component chicken':\n",
    "        return 'Poultry'\n",
    "    elif x == 'comminuted poultry turkey':\n",
    "        return 'Poultry'\n",
    "    elif x == 'turkey intestine (meleagris gallopavo)':\n",
    "        return 'Poultry'\n",
    "    elif x == 'chicken caecum pre-harvest poultry':\n",
    "        return 'Poultry'\n",
    "    elif x == 'chicken carcass':\n",
    "        return 'Poultry'\n",
    "    elif x == 'comminuted chicken':\n",
    "        return 'Poultry'\n",
    "    elif x == 'animal-chicken-young chicken':\n",
    "        return 'Poultry'\n",
    "    elif x == 'chicken meat':\n",
    "        return 'Poultry'\n",
    "    elif x == 'poultry meat':\n",
    "        return 'Poultry'\n",
    "    elif x == 'finished ground turkey':\n",
    "        return 'Poultry'\n",
    "    elif x == 'retail ground turkey':\n",
    "        return 'Poultry'\n",
    "    elif x == 'chicken breasts':\n",
    "        return 'Poultry'\n",
    "    elif x == 'turkey intestine':\n",
    "        return 'Poultry'\n",
    "    elif x == 'poultry manure':\n",
    "        return 'Poultry'\n",
    "    elif x == 'chicken breast':\n",
    "        return 'Poultry'\n",
    "    elif x == 'chicken whole - cut in lab':\n",
    "        return 'Poultry'\n",
    "    elif x == 'turkey fluff (meleagris gallopavo)':\n",
    "        return 'Poultry'\n",
    "    elif x == 'chicken whole-cut in lab':\n",
    "        return 'Poultry'\n",
    "    elif x == 'turkey faeces':\n",
    "        return 'Poultry'\n",
    "    \n",
    "    elif x == 'product-raw-intact-beef':\n",
    "        return 'Bovine'\n",
    "    elif x == 'animal-cattle-beef cow':\n",
    "        return 'Bovine'\n",
    "    elif x == 'animal-cattle-dairy cow':\n",
    "        return 'Bovine'\n",
    "    elif x == 'animal-cattle-dairy cow (cecal)':\n",
    "        return 'Bovine'\n",
    "    elif x == 'animal-calf-bob veal (cecal)':\n",
    "        return 'Bovine'\n",
    "    elif x == 'animal-cattle-steer (cecal)':\n",
    "        return 'Bovine'\n",
    "    elif x == 'intestine (bos taurus)':\n",
    "        return 'Bovine'\n",
    "    elif x == 'feces (bos taurus)':\n",
    "        return 'Bovine'\n",
    "    elif x == 'cattle':\n",
    "        return 'Bovine'\n",
    "    elif x == 'bovine bacterial strain':\n",
    "        return 'Bovine'\n",
    "    elif x == 'buffalo bacterial strain':\n",
    "        return 'Bovine'\n",
    "    elif x == 'calf bacterial strain':\n",
    "        return 'Bovine'\n",
    "    elif x == 'beef':\n",
    "        return 'Bovine'\n",
    "    elif x == 'comminuted beef':\n",
    "        return 'Bovine'\n",
    "    elif x == 'tissue pool (bos taurus)':\n",
    "        return 'Bovine'\n",
    "    elif x == 'calf feces':\n",
    "        return 'Bovine'\n",
    "    elif x == 'jersey calf':\n",
    "        return 'Bovine'\n",
    "    elif x == 'calf lymph node':\n",
    "        return 'Bovine'\n",
    "    elif x == 'calf small intestine':\n",
    "        return 'Bovine'\n",
    "    elif x == 'animal-calf-bob veal':\n",
    "        return 'Bovine'\n",
    "    elif x == 'rte product-beef corndog':\n",
    "        return 'Bovine'\n",
    "    elif x == 'bovine brain (bos taurus)':\n",
    "        return 'Bovine'\n",
    "    elif x == 'animal-cattle-steer':\n",
    "        return 'Bovine'\n",
    "    elif x == 'pooled tissue (bos taurus)':\n",
    "        return 'Bovine'\n",
    "    elif x == 'pooled tissue (bos taurus)':\n",
    "        return 'Bovine'\n",
    "    elif x == 'boneless beef':\n",
    "        return 'Bovine'\n",
    "    elif x == 'raw intact beef':\n",
    "        return 'Bovine'\n",
    "    elif x == 'bovine fecal swab (bos taurus)':\n",
    "        return 'Bovine'\n",
    "    elif x == 'bovine lung (bos taurus)':\n",
    "        return 'Bovine'\n",
    "    elif x == 'bovine lymph node (bos taurus)':\n",
    "        return 'Bovine'\n",
    "    elif x == 'bovine intestine':\n",
    "        return 'Bovine'\n",
    "    elif x == 'biological fluid or and tissue bovine':\n",
    "        return 'Bovine'\n",
    "    elif x == 'intestines (bovine)':\n",
    "        return 'Bovine'\n",
    "    elif x == 'feces bovine':\n",
    "        return 'Bovine'\n",
    "    elif x == 'bovine mesenteric lymph node':\n",
    "        return 'Bovine'\n",
    "    elif x == 'ground beef':\n",
    "        return 'Bovine'\n",
    "    elif x == 'bovine':\n",
    "        return 'Bovine'\n",
    "    elif x == 'bovine manure':\n",
    "        return 'Bovine'\n",
    "    elif x == 'liver (bos taurus)':\n",
    "        return 'Bovine'\n",
    "    elif x == 'food [ground beef]':\n",
    "        return 'Bovine'\n",
    "\n",
    "    else:\n",
    "        return 'Others'\n",
    "    \n",
    "d3['Source'] = d3['source'].apply(replace_host)\n",
    "\n",
    "md_epi1 = d3[['id', 'Country', 'Source']]\n",
    "# md_epi1 # 11811\n",
    "\n",
    "## Read files \n",
    "st = pd.read_csv('files/mlst_output.csv')        # 12230\n",
    "cgmlst = pd.read_csv('files/sistr_output.csv')   # 12230\n",
    "\n",
    "## Clean up ST data\n",
    "st = st.rename(columns = {'FILE':'id'})\n",
    "st1 = st[['id', 'ST']]\n",
    "\n",
    "def replace_st(x):\n",
    "    if x == '34':          # 11273\n",
    "        return 'ST34'\n",
    "    else:\n",
    "        return 'Others'\n",
    "    \n",
    "st1['ST'] = st1['ST'].apply(replace_st)\n",
    "\n",
    "## Clean up cgMLST data\n",
    "cgmlst = cgmlst[['cgmlst_ST', 'genome', 'serovar_antigen']]\n",
    "cgmlst = cgmlst.rename(columns = {'cgmlst_ST':'cgMLST',\n",
    "                                  'genome':'id',\n",
    "                                  'serovar_antigen':'serovar'})\n",
    "cgmlst = cgmlst[['id', 'cgMLST', 'serovar']]\n",
    "\n",
    "def replace_serovar(x):\n",
    "    if x == 'I 1,4,[5],12:i:-':\n",
    "        return 'I 1,4,[5],12:i:-'\n",
    "    else:\n",
    "        return 'Others'\n",
    "    \n",
    "cgmlst['Serovar'] = cgmlst['serovar'].apply(replace_serovar)\n",
    "cgmlst = cgmlst.drop(['serovar', 'cgMLST'], axis = 1)\n",
    "\n",
    "md1 = pd.merge(st1, cgmlst, how = 'inner', on = 'id')\n",
    "md1 = md1[['id', 'Serovar', 'ST']]\n",
    "\n",
    "md2 = pd.merge(md1, md_epi1, how = 'inner', on =  'id')\n",
    "\n",
    "## Apply filters (before filters 11656, after 1447)\n",
    "\n",
    "## Keep only ST34\n",
    "md2 = md2.loc[md2['ST'] == 'ST34']\n",
    "\n",
    "## Drop ST34 if not monophasic\n",
    "md2 = md2.loc[~(md2['Serovar'] == 'Others')]\n",
    "\n",
    "## Keep only USA \n",
    "md2 = md2.loc[md2['Country'] == 'United States']\n",
    "\n",
    "## Keep only Human and Swine\n",
    "md2 = md2.loc[md2['Source'].isin(['Human', 'Swine'])]"
   ]
  },
  {
   "cell_type": "markdown",
   "metadata": {},
   "source": [
    "### Curating Rtab file"
   ]
  },
  {
   "cell_type": "code",
   "execution_count": 3,
   "metadata": {},
   "outputs": [],
   "source": [
    "rtab_1 = pd.read_csv('files/gene_presence_absence.Rtab', sep = '\\t')\n",
    "rtab_1 = rtab_1.set_index('Gene')\n",
    "rtab_1 = rtab_1.transpose()\n",
    "\n",
    "rtab_2 = rtab_1.reset_index()\n",
    "rtab_2 = rtab_2.rename(columns = {'index':'id'})\n",
    "\n",
    "## Extract unique ids for Rtab curation\n",
    "unique_id = md2['id']\n",
    "\n",
    "rtab = pd.merge(unique_id, rtab_2, how = 'inner', on =  'id')\n",
    "rtab = rtab.set_index('id')"
   ]
  },
  {
   "cell_type": "markdown",
   "metadata": {},
   "source": [
    "### Final Metadata"
   ]
  },
  {
   "cell_type": "code",
   "execution_count": 4,
   "metadata": {},
   "outputs": [],
   "source": [
    "## ignore all hypothetical genes (genes that start with group_)\n",
    "j1 = rtab.loc[:,~rtab.columns.str.startswith('group_')]\n",
    "j2 = j1.sum()\n",
    "\n",
    "## Find shell genes (15 - 95%)\n",
    "j3 = (j2/j1.shape[0]) * 100\n",
    "j3 = j3.rename('prop')\n",
    "j3 = j3.reset_index()\n",
    "\n",
    "sg = j3.loc[(j3['prop'] >= 15) & (j3['prop'] < 95)]\n",
    "sg = sg.rename(columns = {'index':'Gene'})\n",
    "sg = sg.set_index('Gene')\n",
    "\n",
    "j4 = j1.transpose()\n",
    "j4 = j4.reset_index()\n",
    "j4 = j4.rename(columns = {'index':'Gene'})\n",
    "j5 = pd.merge(j4, sg, how = 'inner', on = 'Gene')\n",
    "j5 = j5.drop('prop', axis = 1)\n",
    "j5 = j5.set_index('Gene')\n",
    "j5 = j5.transpose()\n",
    "j5 = j5.reset_index()\n",
    "j5 = j5.rename(columns = {'index':'id'})\n",
    "\n",
    "coln = j5.columns\n",
    "first = coln[1] # sopD2\n",
    "last = coln[-1] # pspF_2\n",
    "\n",
    "## Filter out genes with counts higher than 1\n",
    "j6 = pd.melt(j5, id_vars = ['id'], value_vars = list(coln[1:-1]))\n",
    "j6 = j6.loc[j6['value'] <= 1]\n",
    "\n",
    "## Spread the data\n",
    "j7 = j6.pivot(index = ['id'], columns = ['Gene'])\n",
    "j7 = j7.droplevel(0, axis = 1)\n",
    "\n",
    "metadata = pd.merge(md2, j7, how = 'inner', on = 'id')\n",
    "# metadata ## 1447 rows"
   ]
  },
  {
   "cell_type": "markdown",
   "metadata": {},
   "source": [
    "## Plasmids"
   ]
  },
  {
   "cell_type": "markdown",
   "metadata": {},
   "source": [
    "### Cleaning Plasmid Data"
   ]
  },
  {
   "cell_type": "code",
   "execution_count": 5,
   "metadata": {},
   "outputs": [],
   "source": [
    "# Get plasmid data\n",
    "x1 = pd.read_csv('files/abricate_output_plasmidfinder.csv')\n",
    "x1 = x1.rename(columns = {'#FILE':'id', 'GENE':'Gene'})\n",
    "x2 = x1[['id', 'Gene', '%COVERAGE', '%IDENTITY']]\n",
    "\n",
    "## Threshold stablished (filters keep everything below the first quartile out)\n",
    "xa2 = x2.loc[((x2['%COVERAGE'] >= 99) & (x2['%IDENTITY'] >= 88))]\n",
    "x2 = xa2[['id', 'Gene']]\n",
    "\n",
    "x3 = x2.groupby(['id', 'Gene']).size()\n",
    "x3 = x3.reset_index()\n",
    "x3 = x3.rename(columns = {0:'n'})\n",
    "\n",
    "## Eliminating genes with counts higher than 1\n",
    "x3 = x3.loc[x3['n'] == 1]\n",
    "\n",
    "## Spreading data\n",
    "x4 = x3.pivot(index = ['id'], columns = ['Gene'])\n",
    "\n",
    "## Replacing NaN with 0\n",
    "x4 = x4.fillna(0)\n",
    "x4 = x4.droplevel(0, axis = 1)\n",
    "x4 = x4.reset_index()\n",
    "\n",
    "md = metadata[['id', 'Source']]\n",
    "\n",
    "pls = pd.merge(md, x4, how = 'inner', on = 'id')\n",
    "plasmids = pls.set_index('id')"
   ]
  },
  {
   "cell_type": "markdown",
   "metadata": {},
   "source": [
    "### Random Forest"
   ]
  },
  {
   "cell_type": "markdown",
   "metadata": {},
   "source": [
    "#### 80-20 split"
   ]
  },
  {
   "cell_type": "code",
   "execution_count": 6,
   "metadata": {},
   "outputs": [
    {
     "name": "stdout",
     "output_type": "stream",
     "text": [
      "Accuracy before feature selection: 0.59\n",
      "Accuracy after feature selection: 0.55\n"
     ]
    }
   ],
   "source": [
    "X_plasmids = plasmids.drop('Source', axis = 1)\n",
    "y_plasmids = plasmids['Source']\n",
    "\n",
    "# Split the dataset\n",
    "X_plasmids_train, X_plasmids_test, y_plasmids_train, y_plasmids_test = train_test_split(X_plasmids, y_plasmids, \n",
    "                                                                                        test_size = 0.2, \n",
    "                                                                                        random_state = 42)\n",
    "\n",
    "# Train the Random Forest model\n",
    "rf_plasmids = RandomForestClassifier(n_estimators = 50, random_state = 42)\n",
    "rf_plasmids.fit(X_plasmids_train, y_plasmids_train)\n",
    "\n",
    "# Evaluate the model\n",
    "accuracy_before_plasmids = rf_plasmids.score(X_plasmids_test, y_plasmids_test)\n",
    "print(f'Accuracy before feature selection: {accuracy_before_plasmids:.2f}')\n",
    "\n",
    "# Extract feature importances\n",
    "importances_plasmids = rf_plasmids.feature_importances_\n",
    "feature_names_plasmids = X_plasmids.columns\n",
    "feature_importance_plasmids = pd.DataFrame({'Feature': feature_names_plasmids, 'Importance': importances_plasmids})\n",
    "\n",
    "# Rank features by importance\n",
    "feature_importance_plasmids = feature_importance_plasmids.sort_values(by = 'Importance', ascending = False)\n",
    "# print(feature_importance_df)\n",
    "\n",
    "# Select top 10 features\n",
    "top_features_plasmids = feature_importance_plasmids['Feature'][:10].values\n",
    "X_plasmids_train_selected = X_plasmids_train[top_features_plasmids]\n",
    "X_plasmids_test_selected = X_plasmids_test[top_features_plasmids]\n",
    "\n",
    "# Train the Random Forest model with selected features\n",
    "rf_selected_plasmids = RandomForestClassifier(n_estimators = 50, random_state = 42)\n",
    "rf_selected_plasmids.fit(X_plasmids_train_selected, y_plasmids_train)\n",
    "\n",
    "# Evaluate the model\n",
    "accuracy_after_plasmids = rf_selected_plasmids.score(X_plasmids_test_selected, y_plasmids_test)\n",
    "print(f'Accuracy after feature selection: {accuracy_after_plasmids:.2f}')\n",
    "\n",
    "pls_rf_80 = feature_importance_plasmids\n",
    "pls_rf_80['Split'] = '80-20'"
   ]
  },
  {
   "cell_type": "markdown",
   "metadata": {},
   "source": [
    "#### 70-30 split"
   ]
  },
  {
   "cell_type": "code",
   "execution_count": 7,
   "metadata": {},
   "outputs": [
    {
     "name": "stdout",
     "output_type": "stream",
     "text": [
      "Accuracy before feature selection: 0.59\n",
      "Accuracy after feature selection: 0.57\n"
     ]
    }
   ],
   "source": [
    "# Split the dataset\n",
    "X_plasmids_train, X_plasmids_test, y_plasmids_train, y_plasmids_test = train_test_split(X_plasmids, y_plasmids, \n",
    "                                                                                        test_size = 0.3, \n",
    "                                                                                        random_state = 42)\n",
    "\n",
    "# Train the Random Forest model\n",
    "rf_plasmids = RandomForestClassifier(n_estimators = 50, random_state = 42)\n",
    "rf_plasmids.fit(X_plasmids_train, y_plasmids_train)\n",
    "\n",
    "# Evaluate the model\n",
    "accuracy_before_plasmids = rf_plasmids.score(X_plasmids_test, y_plasmids_test)\n",
    "print(f'Accuracy before feature selection: {accuracy_before_plasmids:.2f}')\n",
    "\n",
    "# Extract feature importances\n",
    "importances_plasmids = rf_plasmids.feature_importances_\n",
    "feature_names_plasmids = X_plasmids.columns\n",
    "feature_importance_plasmids = pd.DataFrame({'Feature': feature_names_plasmids, 'Importance': importances_plasmids})\n",
    "\n",
    "# Rank features by importance\n",
    "feature_importance_plasmids = feature_importance_plasmids.sort_values(by = 'Importance', ascending = False)\n",
    "# print(feature_importance_df)\n",
    "\n",
    "# Select top 10 features\n",
    "top_features_plasmids = feature_importance_plasmids['Feature'][:10].values\n",
    "X_plasmids_train_selected = X_plasmids_train[top_features_plasmids]\n",
    "X_plasmids_test_selected = X_plasmids_test[top_features_plasmids]\n",
    "\n",
    "# Train the Random Forest model with selected features\n",
    "rf_selected_plasmids = RandomForestClassifier(n_estimators = 50, random_state = 42)\n",
    "rf_selected_plasmids.fit(X_plasmids_train_selected, y_plasmids_train)\n",
    "\n",
    "# Evaluate the model\n",
    "accuracy_after_plasmids = rf_selected_plasmids.score(X_plasmids_test_selected, y_plasmids_test)\n",
    "print(f'Accuracy after feature selection: {accuracy_after_plasmids:.2f}')\n",
    "\n",
    "pls_rf_70 = feature_importance_plasmids\n",
    "pls_rf_70['Split'] = '70-30'"
   ]
  },
  {
   "cell_type": "markdown",
   "metadata": {},
   "source": [
    "#### 60-40 split"
   ]
  },
  {
   "cell_type": "code",
   "execution_count": 8,
   "metadata": {},
   "outputs": [
    {
     "name": "stdout",
     "output_type": "stream",
     "text": [
      "Accuracy before feature selection: 0.60\n",
      "Accuracy after feature selection: 0.60\n"
     ]
    }
   ],
   "source": [
    "# Split the dataset\n",
    "X_plasmids_train, X_plasmids_test, y_plasmids_train, y_plasmids_test = train_test_split(X_plasmids, y_plasmids, \n",
    "                                                                                        test_size = 0.4, \n",
    "                                                                                        random_state = 42)\n",
    "\n",
    "# Train the Random Forest model\n",
    "rf_plasmids = RandomForestClassifier(n_estimators = 50, random_state = 42)\n",
    "rf_plasmids.fit(X_plasmids_train, y_plasmids_train)\n",
    "\n",
    "# Evaluate the model\n",
    "accuracy_before_plasmids = rf_plasmids.score(X_plasmids_test, y_plasmids_test)\n",
    "print(f'Accuracy before feature selection: {accuracy_before_plasmids:.2f}')\n",
    "\n",
    "# Extract feature importances\n",
    "importances_plasmids = rf_plasmids.feature_importances_\n",
    "feature_names_plasmids = X_plasmids.columns\n",
    "feature_importance_plasmids = pd.DataFrame({'Feature': feature_names_plasmids, 'Importance': importances_plasmids})\n",
    "\n",
    "# Rank features by importance\n",
    "feature_importance_plasmids = feature_importance_plasmids.sort_values(by = 'Importance', ascending = False)\n",
    "# print(feature_importance_df)\n",
    "\n",
    "# Select top 10 features\n",
    "top_features_plasmids = feature_importance_plasmids['Feature'][:10].values\n",
    "X_plasmids_train_selected = X_plasmids_train[top_features_plasmids]\n",
    "X_plasmids_test_selected = X_plasmids_test[top_features_plasmids]\n",
    "\n",
    "# Train the Random Forest model with selected features\n",
    "rf_selected_plasmids = RandomForestClassifier(n_estimators = 50, random_state = 42)\n",
    "rf_selected_plasmids.fit(X_plasmids_train_selected, y_plasmids_train)\n",
    "\n",
    "# Evaluate the model\n",
    "accuracy_after_plasmids = rf_selected_plasmids.score(X_plasmids_test_selected, y_plasmids_test)\n",
    "print(f'Accuracy after feature selection: {accuracy_after_plasmids:.2f}')\n",
    "\n",
    "pls_rf_60 = feature_importance_plasmids\n",
    "pls_rf_60['Split'] = '60-40'"
   ]
  },
  {
   "cell_type": "markdown",
   "metadata": {},
   "source": [
    "#### Filtering and preparing data"
   ]
  },
  {
   "cell_type": "code",
   "execution_count": 9,
   "metadata": {},
   "outputs": [],
   "source": [
    "pls_rf1 = pd.concat([pls_rf_60, pls_rf_70, pls_rf_80])\n",
    "pls_rf = pls_rf1.loc[pls_rf1['Importance'] > 0.01]"
   ]
  },
  {
   "cell_type": "markdown",
   "metadata": {},
   "source": [
    "## AMR - Resfinder"
   ]
  },
  {
   "cell_type": "markdown",
   "metadata": {},
   "source": [
    "### Cleaning Resfinder Data"
   ]
  },
  {
   "cell_type": "code",
   "execution_count": 10,
   "metadata": {},
   "outputs": [],
   "source": [
    "# Get Resfinder Data\n",
    "x1 = pd.read_csv('files/abricate_output_resfinder.csv')\n",
    "x1 = x1.rename(columns = {'#FILE':'id', 'GENE':'Gene'})\n",
    "x2 = x1[['id', 'Gene', '%COVERAGE', '%IDENTITY']]\n",
    "\n",
    "## Threshold stablished (filters keep everything below the first quartile out)\n",
    "xa2 = x2.loc[((x2['%COVERAGE'] == 100) & (x2['%IDENTITY'] == 100))]\n",
    "x2 = xa2[['id', 'Gene']]\n",
    "\n",
    "x3 = x2.groupby(['id', 'Gene']).size()\n",
    "x3 = x3.reset_index()\n",
    "x3 = x3.rename(columns = {0:'n'})\n",
    "\n",
    "## Eliminating genes with counts higher than 1\n",
    "x3 = x3.loc[x3['n'] == 1]\n",
    "\n",
    "## Spreading data\n",
    "x4 = x3.pivot(index = ['id'], columns = ['Gene'])\n",
    "\n",
    "## Replacing NaN with 0\n",
    "x4 = x4.fillna(0)\n",
    "x4 = x4.droplevel(0, axis = 1)\n",
    "x4 = x4.reset_index()\n",
    "\n",
    "md = metadata[['id', 'Source']]\n",
    "\n",
    "amr_res = pd.merge(md, x4, how = 'inner', on = 'id')\n",
    "resfinder = amr_res.set_index('id')"
   ]
  },
  {
   "cell_type": "markdown",
   "metadata": {},
   "source": [
    "### Random Forest"
   ]
  },
  {
   "cell_type": "markdown",
   "metadata": {},
   "source": [
    "#### 80-20 split"
   ]
  },
  {
   "cell_type": "code",
   "execution_count": 11,
   "metadata": {},
   "outputs": [
    {
     "name": "stdout",
     "output_type": "stream",
     "text": [
      "Accuracy before feature selection: 0.59\n",
      "Accuracy after feature selection: 0.58\n"
     ]
    }
   ],
   "source": [
    "X_resfinder = resfinder.drop('Source', axis = 1)\n",
    "y_resfinder = resfinder['Source']\n",
    "\n",
    "# Split the dataset\n",
    "X_resfinder_train, X_resfinder_test, y_resfinder_train, y_resfinder_test = train_test_split(X_resfinder, y_resfinder, \n",
    "                                                                                        test_size = 0.2, \n",
    "                                                                                        random_state = 42)\n",
    "\n",
    "# Train the Random Forest model\n",
    "rf_resfinder = RandomForestClassifier(n_estimators = 50, random_state = 42)\n",
    "rf_resfinder.fit(X_resfinder_train, y_resfinder_train)\n",
    "\n",
    "# Evaluate the model\n",
    "accuracy_before_resfinder = rf_resfinder.score(X_resfinder_test, y_resfinder_test)\n",
    "print(f'Accuracy before feature selection: {accuracy_before_resfinder:.2f}')\n",
    "\n",
    "# Extract feature importances\n",
    "importances_resfinder = rf_resfinder.feature_importances_\n",
    "feature_names_resfinder = X_resfinder.columns\n",
    "feature_importance_resfinder = pd.DataFrame({'Feature': feature_names_resfinder, 'Importance': importances_resfinder})\n",
    "\n",
    "# Rank features by importance\n",
    "feature_importance_resfinder = feature_importance_resfinder.sort_values(by = 'Importance', ascending = False)\n",
    "# print(feature_importance_df)\n",
    "\n",
    "# Select top 10 features\n",
    "top_features_resfinder = feature_importance_resfinder['Feature'][:10].values\n",
    "X_resfinder_train_selected = X_resfinder_train[top_features_resfinder]\n",
    "X_resfinder_test_selected = X_resfinder_test[top_features_resfinder]\n",
    "\n",
    "# Train the Random Forest model with selected features\n",
    "rf_selected_resfinder = RandomForestClassifier(n_estimators = 50, random_state = 42)\n",
    "rf_selected_resfinder.fit(X_resfinder_train_selected, y_resfinder_train)\n",
    "\n",
    "# Evaluate the model\n",
    "accuracy_after_resfinder = rf_selected_resfinder.score(X_resfinder_test_selected, y_resfinder_test)\n",
    "print(f'Accuracy after feature selection: {accuracy_after_resfinder:.2f}')\n",
    "\n",
    "res_rf_80 = feature_importance_resfinder\n",
    "res_rf_80['Split'] = '80-20'"
   ]
  },
  {
   "cell_type": "markdown",
   "metadata": {},
   "source": [
    "#### 70-30 split"
   ]
  },
  {
   "cell_type": "code",
   "execution_count": 12,
   "metadata": {},
   "outputs": [
    {
     "name": "stdout",
     "output_type": "stream",
     "text": [
      "Accuracy before feature selection: 0.60\n",
      "Accuracy after feature selection: 0.58\n"
     ]
    }
   ],
   "source": [
    "# Split the dataset\n",
    "X_resfinder_train, X_resfinder_test, y_resfinder_train, y_resfinder_test = train_test_split(X_resfinder, y_resfinder, \n",
    "                                                                                        test_size = 0.3, \n",
    "                                                                                        random_state = 42)\n",
    "\n",
    "# Train the Random Forest model\n",
    "rf_resfinder = RandomForestClassifier(n_estimators = 50, random_state = 42)\n",
    "rf_resfinder.fit(X_resfinder_train, y_resfinder_train)\n",
    "\n",
    "# Evaluate the model\n",
    "accuracy_before_resfinder = rf_resfinder.score(X_resfinder_test, y_resfinder_test)\n",
    "print(f'Accuracy before feature selection: {accuracy_before_resfinder:.2f}')\n",
    "\n",
    "# Extract feature importances\n",
    "importances_resfinder = rf_resfinder.feature_importances_\n",
    "feature_names_resfinder = X_resfinder.columns\n",
    "feature_importance_resfinder = pd.DataFrame({'Feature': feature_names_resfinder, 'Importance': importances_resfinder})\n",
    "\n",
    "# Rank features by importance\n",
    "feature_importance_resfinder = feature_importance_resfinder.sort_values(by = 'Importance', ascending = False)\n",
    "# print(feature_importance_df)\n",
    "\n",
    "# Select top 10 features\n",
    "top_features_resfinder = feature_importance_resfinder['Feature'][:10].values\n",
    "X_resfinder_train_selected = X_resfinder_train[top_features_resfinder]\n",
    "X_resfinder_test_selected = X_resfinder_test[top_features_resfinder]\n",
    "\n",
    "# Train the Random Forest model with selected features\n",
    "rf_selected_resfinder = RandomForestClassifier(n_estimators = 50, random_state = 42)\n",
    "rf_selected_resfinder.fit(X_resfinder_train_selected, y_resfinder_train)\n",
    "\n",
    "# Evaluate the model\n",
    "accuracy_after_resfinder = rf_selected_resfinder.score(X_resfinder_test_selected, y_resfinder_test)\n",
    "print(f'Accuracy after feature selection: {accuracy_after_resfinder:.2f}')\n",
    "\n",
    "res_rf_70 = feature_importance_resfinder\n",
    "res_rf_70['Split'] = '70-30'"
   ]
  },
  {
   "cell_type": "markdown",
   "metadata": {},
   "source": [
    "#### 60-40 split"
   ]
  },
  {
   "cell_type": "code",
   "execution_count": 13,
   "metadata": {},
   "outputs": [
    {
     "name": "stdout",
     "output_type": "stream",
     "text": [
      "Accuracy before feature selection: 0.58\n",
      "Accuracy after feature selection: 0.58\n"
     ]
    }
   ],
   "source": [
    "# Split the dataset\n",
    "X_resfinder_train, X_resfinder_test, y_resfinder_train, y_resfinder_test = train_test_split(X_resfinder, y_resfinder, \n",
    "                                                                                        test_size = 0.4, \n",
    "                                                                                        random_state = 42)\n",
    "\n",
    "# Train the Random Forest model\n",
    "rf_resfinder = RandomForestClassifier(n_estimators = 50, random_state = 42)\n",
    "rf_resfinder.fit(X_resfinder_train, y_resfinder_train)\n",
    "\n",
    "# Evaluate the model\n",
    "accuracy_before_resfinder = rf_resfinder.score(X_resfinder_test, y_resfinder_test)\n",
    "print(f'Accuracy before feature selection: {accuracy_before_resfinder:.2f}')\n",
    "\n",
    "# Extract feature importances\n",
    "importances_resfinder = rf_resfinder.feature_importances_\n",
    "feature_names_resfinder = X_resfinder.columns\n",
    "feature_importance_resfinder = pd.DataFrame({'Feature': feature_names_resfinder, 'Importance': importances_resfinder})\n",
    "\n",
    "# Rank features by importance\n",
    "feature_importance_resfinder = feature_importance_resfinder.sort_values(by = 'Importance', ascending = False)\n",
    "# print(feature_importance_df)\n",
    "\n",
    "# Select top 10 features\n",
    "top_features_resfinder = feature_importance_resfinder['Feature'][:10].values\n",
    "X_resfinder_train_selected = X_resfinder_train[top_features_resfinder]\n",
    "X_resfinder_test_selected = X_resfinder_test[top_features_resfinder]\n",
    "\n",
    "# Train the Random Forest model with selected features\n",
    "rf_selected_resfinder = RandomForestClassifier(n_estimators = 50, random_state = 42)\n",
    "rf_selected_resfinder.fit(X_resfinder_train_selected, y_resfinder_train)\n",
    "\n",
    "# Evaluate the model\n",
    "accuracy_after_resfinder = rf_selected_resfinder.score(X_resfinder_test_selected, y_resfinder_test)\n",
    "print(f'Accuracy after feature selection: {accuracy_after_resfinder:.2f}')\n",
    "\n",
    "res_rf_60 = feature_importance_resfinder\n",
    "res_rf_60['Split'] = '60-40'"
   ]
  },
  {
   "cell_type": "markdown",
   "metadata": {},
   "source": [
    "#### Filtering and preparing data"
   ]
  },
  {
   "cell_type": "code",
   "execution_count": 14,
   "metadata": {},
   "outputs": [],
   "source": [
    "res_rf1 = pd.concat([res_rf_60, res_rf_70, res_rf_80])\n",
    "res_rf = res_rf1.loc[res_rf1['Importance'] > 0.01]"
   ]
  },
  {
   "cell_type": "markdown",
   "metadata": {},
   "source": [
    "## AMR - Argannot"
   ]
  },
  {
   "cell_type": "markdown",
   "metadata": {},
   "source": [
    "### Cleaning Argannot Data"
   ]
  },
  {
   "cell_type": "code",
   "execution_count": 15,
   "metadata": {},
   "outputs": [],
   "source": [
    "# Get Argannot Data\n",
    "x1 = pd.read_csv('files/abricate_output_argannot.csv')\n",
    "x1 = x1.rename(columns = {'#FILE':'id', 'GENE':'Gene'})\n",
    "x2 = x1[['id', 'Gene', '%COVERAGE', '%IDENTITY']]\n",
    "\n",
    "## Threshold stablished (filters keep everything below the first quartile out)\n",
    "xa2 = x2.loc[((x2['%COVERAGE'] == 100) & (x2['%IDENTITY'] >= 96))]\n",
    "x2 = xa2[['id', 'Gene']]\n",
    "\n",
    "x3 = x2.groupby(['id', 'Gene']).size()\n",
    "x3 = x3.reset_index()\n",
    "x3 = x3.rename(columns = {0:'n'})\n",
    "\n",
    "## Eliminating genes with counts higher than 1\n",
    "x3 = x3.loc[x3['n'] == 1]\n",
    "\n",
    "## Spreading data\n",
    "x4 = x3.pivot(index = ['id'], columns = ['Gene'])\n",
    "\n",
    "## Replacing NaN with 0\n",
    "x4 = x4.fillna(0)\n",
    "x4 = x4.droplevel(0, axis = 1)\n",
    "x4 = x4.reset_index()\n",
    "\n",
    "md = metadata[['id', 'Source']]\n",
    "\n",
    "amr_arg = pd.merge(md, x4, how = 'inner', on = 'id')\n",
    "argannot = amr_arg.set_index('id')"
   ]
  },
  {
   "cell_type": "markdown",
   "metadata": {},
   "source": [
    "### Random Forest"
   ]
  },
  {
   "cell_type": "markdown",
   "metadata": {},
   "source": [
    "#### 80-20 split"
   ]
  },
  {
   "cell_type": "code",
   "execution_count": 16,
   "metadata": {},
   "outputs": [
    {
     "name": "stdout",
     "output_type": "stream",
     "text": [
      "Accuracy before feature selection: 0.57\n",
      "Accuracy after feature selection: 0.57\n"
     ]
    }
   ],
   "source": [
    "X_argannot = argannot.drop('Source', axis = 1)\n",
    "y_argannot = argannot['Source']\n",
    "\n",
    "# Split the dataset\n",
    "X_argannot_train, X_argannot_test, y_argannot_train, y_argannot_test = train_test_split(X_argannot, y_argannot, \n",
    "                                                                                        test_size = 0.2, \n",
    "                                                                                        random_state = 42)\n",
    "\n",
    "# Train the Random Forest model\n",
    "rf_argannot = RandomForestClassifier(n_estimators = 50, random_state = 42)\n",
    "rf_argannot.fit(X_argannot_train, y_argannot_train)\n",
    "\n",
    "# Evaluate the model\n",
    "accuracy_before_argannot = rf_argannot.score(X_argannot_test, y_argannot_test)\n",
    "print(f'Accuracy before feature selection: {accuracy_before_argannot:.2f}')\n",
    "\n",
    "# Extract feature importances\n",
    "importances_argannot = rf_argannot.feature_importances_\n",
    "feature_names_argannot = X_argannot.columns\n",
    "feature_importance_argannot = pd.DataFrame({'Feature': feature_names_argannot, 'Importance': importances_argannot})\n",
    "\n",
    "# Rank features by importance\n",
    "feature_importance_argannot = feature_importance_argannot.sort_values(by = 'Importance', ascending = False)\n",
    "# print(feature_importance_df)\n",
    "\n",
    "# Select top 10 features\n",
    "top_features_argannot = feature_importance_argannot['Feature'][:10].values\n",
    "X_argannot_train_selected = X_argannot_train[top_features_argannot]\n",
    "X_argannot_test_selected = X_argannot_test[top_features_argannot]\n",
    "\n",
    "# Train the Random Forest model with selected features\n",
    "rf_selected_argannot = RandomForestClassifier(n_estimators = 50, random_state = 42)\n",
    "rf_selected_argannot.fit(X_argannot_train_selected, y_argannot_train)\n",
    "\n",
    "# Evaluate the model\n",
    "accuracy_after_argannot = rf_selected_argannot.score(X_argannot_test_selected, y_argannot_test)\n",
    "print(f'Accuracy after feature selection: {accuracy_after_argannot:.2f}')\n",
    "\n",
    "arg_rf_80 = feature_importance_argannot\n",
    "arg_rf_80['Split'] = '80-20'\n"
   ]
  },
  {
   "cell_type": "markdown",
   "metadata": {},
   "source": [
    "#### 70-30 split"
   ]
  },
  {
   "cell_type": "code",
   "execution_count": 17,
   "metadata": {},
   "outputs": [
    {
     "name": "stdout",
     "output_type": "stream",
     "text": [
      "Accuracy before feature selection: 0.57\n",
      "Accuracy after feature selection: 0.55\n"
     ]
    }
   ],
   "source": [
    "# Split the dataset\n",
    "X_argannot_train, X_argannot_test, y_argannot_train, y_argannot_test = train_test_split(X_argannot, y_argannot, \n",
    "                                                                                        test_size = 0.3, \n",
    "                                                                                        random_state = 42)\n",
    "\n",
    "# Train the Random Forest model\n",
    "rf_argannot = RandomForestClassifier(n_estimators = 50, random_state = 42)\n",
    "rf_argannot.fit(X_argannot_train, y_argannot_train)\n",
    "\n",
    "# Evaluate the model\n",
    "accuracy_before_argannot = rf_argannot.score(X_argannot_test, y_argannot_test)\n",
    "print(f'Accuracy before feature selection: {accuracy_before_argannot:.2f}')\n",
    "\n",
    "# Extract feature importances\n",
    "importances_argannot = rf_argannot.feature_importances_\n",
    "feature_names_argannot = X_argannot.columns\n",
    "feature_importance_argannot = pd.DataFrame({'Feature': feature_names_argannot, 'Importance': importances_argannot})\n",
    "\n",
    "# Rank features by importance\n",
    "feature_importance_argannot = feature_importance_argannot.sort_values(by = 'Importance', ascending = False)\n",
    "# print(feature_importance_df)\n",
    "\n",
    "# Select top 10 features\n",
    "top_features_argannot = feature_importance_argannot['Feature'][:10].values\n",
    "X_argannot_train_selected = X_argannot_train[top_features_argannot]\n",
    "X_argannot_test_selected = X_argannot_test[top_features_argannot]\n",
    "\n",
    "# Train the Random Forest model with selected features\n",
    "rf_selected_argannot = RandomForestClassifier(n_estimators = 50, random_state = 42)\n",
    "rf_selected_argannot.fit(X_argannot_train_selected, y_argannot_train)\n",
    "\n",
    "# Evaluate the model\n",
    "accuracy_after_argannot = rf_selected_argannot.score(X_argannot_test_selected, y_argannot_test)\n",
    "print(f'Accuracy after feature selection: {accuracy_after_argannot:.2f}')\n",
    "\n",
    "arg_rf_70 = feature_importance_argannot\n",
    "arg_rf_70['Split'] = '70-30'"
   ]
  },
  {
   "cell_type": "markdown",
   "metadata": {},
   "source": [
    "#### 60-40 split"
   ]
  },
  {
   "cell_type": "code",
   "execution_count": 18,
   "metadata": {},
   "outputs": [
    {
     "name": "stdout",
     "output_type": "stream",
     "text": [
      "Accuracy before feature selection: 0.59\n",
      "Accuracy after feature selection: 0.57\n"
     ]
    }
   ],
   "source": [
    "# Split the dataset\n",
    "X_argannot_train, X_argannot_test, y_argannot_train, y_argannot_test = train_test_split(X_argannot, y_argannot, \n",
    "                                                                                        test_size = 0.4, \n",
    "                                                                                        random_state = 42)\n",
    "\n",
    "# Train the Random Forest model\n",
    "rf_argannot = RandomForestClassifier(n_estimators = 50, random_state = 42)\n",
    "rf_argannot.fit(X_argannot_train, y_argannot_train)\n",
    "\n",
    "# Evaluate the model\n",
    "accuracy_before_argannot = rf_argannot.score(X_argannot_test, y_argannot_test)\n",
    "print(f'Accuracy before feature selection: {accuracy_before_argannot:.2f}')\n",
    "\n",
    "# Extract feature importances\n",
    "importances_argannot = rf_argannot.feature_importances_\n",
    "feature_names_argannot = X_argannot.columns\n",
    "feature_importance_argannot = pd.DataFrame({'Feature': feature_names_argannot, 'Importance': importances_argannot})\n",
    "\n",
    "# Rank features by importance\n",
    "feature_importance_argannot = feature_importance_argannot.sort_values(by = 'Importance', ascending = False)\n",
    "# print(feature_importance_df)\n",
    "\n",
    "# Select top 10 features\n",
    "top_features_argannot = feature_importance_argannot['Feature'][:10].values\n",
    "X_argannot_train_selected = X_argannot_train[top_features_argannot]\n",
    "X_argannot_test_selected = X_argannot_test[top_features_argannot]\n",
    "\n",
    "# Train the Random Forest model with selected features\n",
    "rf_selected_argannot = RandomForestClassifier(n_estimators = 50, random_state = 42)\n",
    "rf_selected_argannot.fit(X_argannot_train_selected, y_argannot_train)\n",
    "\n",
    "# Evaluate the model\n",
    "accuracy_after_argannot = rf_selected_argannot.score(X_argannot_test_selected, y_argannot_test)\n",
    "print(f'Accuracy after feature selection: {accuracy_after_argannot:.2f}')\n",
    "\n",
    "arg_rf_60 = feature_importance_argannot\n",
    "arg_rf_60['Split'] = '60-40'"
   ]
  },
  {
   "cell_type": "markdown",
   "metadata": {},
   "source": [
    "#### Filtering and preparing data"
   ]
  },
  {
   "cell_type": "code",
   "execution_count": 19,
   "metadata": {},
   "outputs": [],
   "source": [
    "arg_rf1 = pd.concat([arg_rf_60, arg_rf_70, arg_rf_80])\n",
    "arg_rf = arg_rf1.loc[arg_rf1['Importance'] > 0.01]"
   ]
  },
  {
   "cell_type": "markdown",
   "metadata": {},
   "source": [
    "## Major Differenciating Annotated Shell Genes"
   ]
  },
  {
   "cell_type": "markdown",
   "metadata": {},
   "source": [
    "### Cleaning Shell Genes Data"
   ]
  },
  {
   "cell_type": "code",
   "execution_count": 20,
   "metadata": {},
   "outputs": [],
   "source": [
    "# Create DataFrame for Shell Genes\n",
    "shell_genes = metadata.drop(['Serovar', 'ST', 'Country'], axis = 1).set_index('id')\n",
    "\n",
    "X_shell_genes = shell_genes.drop('Source', axis = 1)\n",
    "y_shell_genes = shell_genes['Source']"
   ]
  },
  {
   "cell_type": "markdown",
   "metadata": {},
   "source": [
    "### Random Forest"
   ]
  },
  {
   "cell_type": "markdown",
   "metadata": {},
   "source": [
    "#### 80-20 split"
   ]
  },
  {
   "cell_type": "code",
   "execution_count": 21,
   "metadata": {},
   "outputs": [
    {
     "name": "stdout",
     "output_type": "stream",
     "text": [
      "Accuracy before feature selection: 0.67\n",
      "Accuracy after feature selection: 0.72\n"
     ]
    }
   ],
   "source": [
    "# Split the dataset\n",
    "X_shell_genes_train, X_shell_genes_test, y_shell_genes_train, y_shell_genes_test = train_test_split(X_shell_genes, y_shell_genes, \n",
    "                                                                                        test_size = 0.2, \n",
    "                                                                                        random_state = 42)\n",
    "\n",
    "# Train the Random Forest model\n",
    "rf_shell_genes = RandomForestClassifier(n_estimators = 50, random_state = 42)\n",
    "rf_shell_genes.fit(X_shell_genes_train, y_shell_genes_train)\n",
    "\n",
    "# Evaluate the model\n",
    "accuracy_before_shell_genes = rf_shell_genes.score(X_shell_genes_test, y_shell_genes_test)\n",
    "print(f'Accuracy before feature selection: {accuracy_before_shell_genes:.2f}')\n",
    "\n",
    "# Extract feature importances\n",
    "importances_shell_genes = rf_shell_genes.feature_importances_\n",
    "feature_names_shell_genes = X_shell_genes.columns\n",
    "feature_importance_shell_genes = pd.DataFrame({'Feature': feature_names_shell_genes, 'Importance': importances_shell_genes})\n",
    "\n",
    "# Rank features by importance\n",
    "feature_importance_shell_genes = feature_importance_shell_genes.sort_values(by = 'Importance', ascending = False)\n",
    "# print(feature_importance_df)\n",
    "\n",
    "# Select top 10 features\n",
    "top_features_shell_genes = feature_importance_shell_genes['Feature'][:10].values\n",
    "X_shell_genes_train_selected = X_shell_genes_train[top_features_shell_genes]\n",
    "X_shell_genes_test_selected = X_shell_genes_test[top_features_shell_genes]\n",
    "\n",
    "# Train the Random Forest model with selected features\n",
    "rf_selected_shell_genes = RandomForestClassifier(n_estimators = 50, random_state = 42)\n",
    "rf_selected_shell_genes.fit(X_shell_genes_train_selected, y_shell_genes_train)\n",
    "\n",
    "# Evaluate the model\n",
    "accuracy_after_shell_genes = rf_selected_shell_genes.score(X_shell_genes_test_selected, y_shell_genes_test)\n",
    "print(f'Accuracy after feature selection: {accuracy_after_shell_genes:.2f}')\n",
    "\n",
    "sg_rf_80 = feature_importance_shell_genes\n",
    "sg_rf_80['Split'] = '80-20'"
   ]
  },
  {
   "cell_type": "markdown",
   "metadata": {},
   "source": [
    "#### 70-30 split"
   ]
  },
  {
   "cell_type": "code",
   "execution_count": 22,
   "metadata": {},
   "outputs": [
    {
     "name": "stdout",
     "output_type": "stream",
     "text": [
      "Accuracy before feature selection: 0.72\n",
      "Accuracy after feature selection: 0.71\n"
     ]
    }
   ],
   "source": [
    "# Split the dataset\n",
    "X_shell_genes_train, X_shell_genes_test, y_shell_genes_train, y_shell_genes_test = train_test_split(X_shell_genes, y_shell_genes, \n",
    "                                                                                        test_size = 0.3, \n",
    "                                                                                        random_state = 42)\n",
    "\n",
    "# Train the Random Forest model\n",
    "rf_shell_genes = RandomForestClassifier(n_estimators = 50, random_state = 42)\n",
    "rf_shell_genes.fit(X_shell_genes_train, y_shell_genes_train)\n",
    "\n",
    "# Evaluate the model\n",
    "accuracy_before_shell_genes = rf_shell_genes.score(X_shell_genes_test, y_shell_genes_test)\n",
    "print(f'Accuracy before feature selection: {accuracy_before_shell_genes:.2f}')\n",
    "\n",
    "# Extract feature importances\n",
    "importances_shell_genes = rf_shell_genes.feature_importances_\n",
    "feature_names_shell_genes = X_shell_genes.columns\n",
    "feature_importance_shell_genes = pd.DataFrame({'Feature': feature_names_shell_genes, 'Importance': importances_shell_genes})\n",
    "\n",
    "# Rank features by importance\n",
    "feature_importance_shell_genes = feature_importance_shell_genes.sort_values(by = 'Importance', ascending = False)\n",
    "# print(feature_importance_df)\n",
    "\n",
    "# Select top 10 features\n",
    "top_features_shell_genes = feature_importance_shell_genes['Feature'][:10].values\n",
    "X_shell_genes_train_selected = X_shell_genes_train[top_features_shell_genes]\n",
    "X_shell_genes_test_selected = X_shell_genes_test[top_features_shell_genes]\n",
    "\n",
    "# Train the Random Forest model with selected features\n",
    "rf_selected_shell_genes = RandomForestClassifier(n_estimators = 50, random_state = 42)\n",
    "rf_selected_shell_genes.fit(X_shell_genes_train_selected, y_shell_genes_train)\n",
    "\n",
    "# Evaluate the model\n",
    "accuracy_after_shell_genes = rf_selected_shell_genes.score(X_shell_genes_test_selected, y_shell_genes_test)\n",
    "print(f'Accuracy after feature selection: {accuracy_after_shell_genes:.2f}')\n",
    "\n",
    "sg_rf_70 = feature_importance_shell_genes\n",
    "sg_rf_70['Split'] = '70-30'"
   ]
  },
  {
   "cell_type": "markdown",
   "metadata": {},
   "source": [
    "#### 60-40 split"
   ]
  },
  {
   "cell_type": "code",
   "execution_count": 23,
   "metadata": {},
   "outputs": [
    {
     "name": "stdout",
     "output_type": "stream",
     "text": [
      "Accuracy before feature selection: 0.71\n",
      "Accuracy after feature selection: 0.71\n"
     ]
    }
   ],
   "source": [
    "# Split the dataset\n",
    "X_shell_genes_train, X_shell_genes_test, y_shell_genes_train, y_shell_genes_test = train_test_split(X_shell_genes, y_shell_genes, \n",
    "                                                                                        test_size = 0.4, \n",
    "                                                                                        random_state = 42)\n",
    "\n",
    "# Train the Random Forest model\n",
    "rf_shell_genes = RandomForestClassifier(n_estimators = 50, random_state = 42)\n",
    "rf_shell_genes.fit(X_shell_genes_train, y_shell_genes_train)\n",
    "\n",
    "# Evaluate the model\n",
    "accuracy_before_shell_genes = rf_shell_genes.score(X_shell_genes_test, y_shell_genes_test)\n",
    "print(f'Accuracy before feature selection: {accuracy_before_shell_genes:.2f}')\n",
    "\n",
    "# Extract feature importances\n",
    "importances_shell_genes = rf_shell_genes.feature_importances_\n",
    "feature_names_shell_genes = X_shell_genes.columns\n",
    "feature_importance_shell_genes = pd.DataFrame({'Feature': feature_names_shell_genes, 'Importance': importances_shell_genes})\n",
    "\n",
    "# Rank features by importance\n",
    "feature_importance_shell_genes = feature_importance_shell_genes.sort_values(by = 'Importance', ascending = False)\n",
    "# print(feature_importance_df)\n",
    "\n",
    "# Select top 10 features\n",
    "top_features_shell_genes = feature_importance_shell_genes['Feature'][:10].values\n",
    "X_shell_genes_train_selected = X_shell_genes_train[top_features_shell_genes]\n",
    "X_shell_genes_test_selected = X_shell_genes_test[top_features_shell_genes]\n",
    "\n",
    "# Train the Random Forest model with selected features\n",
    "rf_selected_shell_genes = RandomForestClassifier(n_estimators = 50, random_state = 42)\n",
    "rf_selected_shell_genes.fit(X_shell_genes_train_selected, y_shell_genes_train)\n",
    "\n",
    "# Evaluate the model\n",
    "accuracy_after_shell_genes = rf_selected_shell_genes.score(X_shell_genes_test_selected, y_shell_genes_test)\n",
    "print(f'Accuracy after feature selection: {accuracy_after_shell_genes:.2f}')\n",
    "\n",
    "sg_rf_60 = feature_importance_shell_genes\n",
    "sg_rf_60['Split'] = '60-40'"
   ]
  },
  {
   "cell_type": "markdown",
   "metadata": {},
   "source": [
    "#### Filtering and preparing data"
   ]
  },
  {
   "cell_type": "code",
   "execution_count": 24,
   "metadata": {},
   "outputs": [],
   "source": [
    "sg_rf1 = pd.concat([sg_rf_60, sg_rf_70, sg_rf_80])\n",
    "sg_rf = sg_rf1.loc[sg_rf1['Importance'] > 0.01]"
   ]
  },
  {
   "cell_type": "markdown",
   "metadata": {},
   "source": [
    "## Clustermap Prep"
   ]
  },
  {
   "cell_type": "markdown",
   "metadata": {},
   "source": [
    "### Shell Genes"
   ]
  },
  {
   "cell_type": "code",
   "execution_count": 25,
   "metadata": {},
   "outputs": [],
   "source": [
    "top_sg  = sg_rf['Feature'].unique().tolist()\n",
    "\n",
    "## Top Feature for Shell Genes\n",
    "top_sg1_list = ['id', 'Source']\n",
    "top_sg1_list.extend(top_sg)\n",
    "top_sg1 = metadata[top_sg1_list].set_index('id')"
   ]
  },
  {
   "cell_type": "markdown",
   "metadata": {},
   "source": [
    "### AMR - Resfinder"
   ]
  },
  {
   "cell_type": "code",
   "execution_count": 26,
   "metadata": {},
   "outputs": [],
   "source": [
    "top_res = res_rf['Feature'].unique().tolist()\n",
    "\n",
    "## Top Feature for Resfinder\n",
    "top_res1_list = ['Source']\n",
    "top_res1_list.extend(top_res)\n",
    "top_res1 = resfinder[top_res1_list]"
   ]
  },
  {
   "cell_type": "markdown",
   "metadata": {},
   "source": [
    "### AMR - Argannot"
   ]
  },
  {
   "cell_type": "code",
   "execution_count": 27,
   "metadata": {},
   "outputs": [],
   "source": [
    "top_arg = arg_rf['Feature'].unique().tolist()\n",
    "\n",
    "## Top Feature for Argannot\n",
    "top_arg1_list = ['Source']\n",
    "top_arg1_list.extend(top_arg)\n",
    "top_arg1 = argannot[top_arg1_list]"
   ]
  },
  {
   "cell_type": "markdown",
   "metadata": {},
   "source": [
    "### Plasmids"
   ]
  },
  {
   "cell_type": "code",
   "execution_count": 28,
   "metadata": {},
   "outputs": [],
   "source": [
    "top_pls = pls_rf['Feature'].unique().tolist()\n",
    "\n",
    "## Top Feature for Plasmids\n",
    "top_pls1_list = ['Source']\n",
    "top_pls1_list.extend(top_pls)\n",
    "top_pls1 = plasmids[top_pls1_list]"
   ]
  },
  {
   "cell_type": "markdown",
   "metadata": {},
   "source": [
    "### Final Prep"
   ]
  },
  {
   "cell_type": "code",
   "execution_count": 29,
   "metadata": {},
   "outputs": [],
   "source": [
    "t1 = pd.merge(top_sg1, top_res1, how = 'inner', on = ['id', 'Source'])\n",
    "t2 = pd.merge(top_arg1, top_pls1, how = 'left', on = ['id', 'Source'])\n",
    "t2 = t2.fillna(0)\n",
    "\n",
    "# Merged in order [Shell Genes, Resfinder, Argannot, Plasmids]\n",
    "top_features1 = pd.merge(t1, t2, how = 'inner', on = ['id', 'Source'])\n",
    "top_features_merged = top_features1.reset_index().set_index(['id', 'Source'])"
   ]
  },
  {
   "cell_type": "markdown",
   "metadata": {},
   "source": [
    "## Figure"
   ]
  },
  {
   "cell_type": "code",
   "execution_count": 30,
   "metadata": {},
   "outputs": [
    {
     "name": "stderr",
     "output_type": "stream",
     "text": [
      "c:\\Users\\steph\\AppData\\Local\\Programs\\Python\\Python311\\Lib\\site-packages\\seaborn\\matrix.py:560: UserWarning: Clustering large matrix with scipy. Installing `fastcluster` may give better performance.\n",
      "  warnings.warn(msg)\n",
      "c:\\Users\\steph\\AppData\\Local\\Programs\\Python\\Python311\\Lib\\site-packages\\seaborn\\matrix.py:560: UserWarning: Clustering large matrix with scipy. Installing `fastcluster` may give better performance.\n",
      "  warnings.warn(msg)\n"
     ]
    },
    {
     "data": {
      "text/plain": [
       "Text(0.5, 1.0, 'Clustermap Set 1')"
      ]
     },
     "execution_count": 30,
     "metadata": {},
     "output_type": "execute_result"
    },
    {
     "data": {
      "image/png": "[encoded data removed]",
      "text/plain": [
       "<Figure size 2500x2000 with 5 Axes>"
      ]
     },
     "metadata": {},
     "output_type": "display_data"
    }
   ],
   "source": [
    "used_source = ['Human', 'Swine']\n",
    "source_pal = sns.color_palette(['moccasin', 'maroon'])\n",
    "source_lut = dict(zip(map(str, used_source), source_pal))\n",
    "\n",
    "sources = top_features_merged.index.get_level_values('Source')\n",
    "source_colors = pd.Series(sources, index = top_features_merged.index).map(source_lut)\n",
    "\n",
    "cmap = sns.color_palette(['midnightblue', 'whitesmoke'])\n",
    "\n",
    "set1 = sns.clustermap(top_features_merged, metric = 'jaccard', \n",
    "                      xticklabels = True, yticklabels = False,\n",
    "                      cmap = cmap, cbar_pos = (1, .3, .03, .4),\n",
    "                      row_colors = source_colors,\n",
    "                      figsize=(25, 20))\n",
    "\n",
    "category_order = ['Presence', 'Absence']    \n",
    "\n",
    "#modify colorbar:\n",
    "colorbar = set1.ax_heatmap.collections[0].colorbar.ax\n",
    "colorbar.set_yticks([0.25, 0.75])\n",
    "colorbar.set_yticklabels(category_order) \n",
    "\n",
    "\n",
    "for label in sources.unique().sort_values():\n",
    "    set1.ax_col_dendrogram.bar(0, 0, color = source_lut[label],\n",
    "                            label = label, linewidth = 0)\n",
    "    \n",
    "source_leg = set1.ax_col_dendrogram.legend(title = 'Source', title_fontsize = 16,\n",
    "                                           bbox_to_anchor = (1.005, -0.25), \n",
    "                                           loc = 'center left',\n",
    "                                           prop = {'size': 16})\n",
    "\n",
    "ax = set1.ax_heatmap\n",
    "ax.set_ylabel('')\n",
    "\n",
    "set1.ax_col_dendrogram.set_title('Clustermap Set 1', fontsize = 30, fontweight = 'bold')"
   ]
  }
 ],
 "metadata": {
  "kernelspec": {
   "display_name": "Python 3",
   "language": "python",
   "name": "python3"
  },
  "language_info": {
   "codemirror_mode": {
    "name": "ipython",
    "version": 3
   },
   "file_extension": ".py",
   "mimetype": "text/x-python",
   "name": "python",
   "nbconvert_exporter": "python",
   "pygments_lexer": "ipython3",
   "version": "3.11.9"
  }
 },
 "nbformat": 4,
 "nbformat_minor": 2
}
